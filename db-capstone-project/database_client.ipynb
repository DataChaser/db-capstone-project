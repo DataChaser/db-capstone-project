{
 "cells": [
  {
   "cell_type": "code",
   "execution_count": null,
   "metadata": {},
   "outputs": [],
   "source": [
    "#Task 1 - In the first task of this exercise, you are tasked with extending the environment to connect with your database and interact with the data it holds. \n",
    "import mysql.connector as connector\n",
    "connection = connector.connect(user = 'james_capstone', password = 'Snake@123', db = 'LittleLemonDB')\n",
    "cursor = connection.cursor()"
   ]
  },
  {
   "cell_type": "code",
   "execution_count": null,
   "metadata": {},
   "outputs": [
    {
     "name": "stdout",
     "output_type": "stream",
     "text": [
      "[('bookings',), ('customers',), ('menu',), ('orderdeliverystatus',), ('orders',), ('ordersviews',), ('staff',)]\n"
     ]
    }
   ],
   "source": [
    "# Task 2 - In this second task, you now need to query the database to show all tables within the database. \n",
    "show_table_query = \"\"\"SHOW TABLES;\"\"\"\n",
    "cursor.execute(show_table_query)\n",
    "results = cursor.fetchall()\n",
    "print(results)"
   ]
  },
  {
   "cell_type": "code",
   "execution_count": null,
   "metadata": {},
   "outputs": [
    {
     "name": "stdout",
     "output_type": "stream",
     "text": [
      "('Alice Johnson', '1234567890', 'alice.johnson@email.com', Decimal('130'))\n",
      "('Charlie Brown', '3456789012', 'charlie.brown@email.com', Decimal('141'))\n",
      "('Bob Smith', '2345678901', 'bob.smith@email.com', Decimal('156'))\n",
      "('Alice Johnson', '1234567890', 'alice.johnson@email.com', Decimal('129'))\n",
      "('Frank Thomas', '6789012345', 'frank.thomas@email.com', Decimal('135'))\n",
      "('Grace White', '7890123456', 'grace.white@email.com', Decimal('150'))\n",
      "('Henry Harris', '8901234567', 'henry.harris@email.com', Decimal('170'))\n",
      "('Jack Lee', '0123456789', 'jack.lee@email.com', Decimal('126'))\n"
     ]
    }
   ],
   "source": [
    "#Task 3 - For the third and final task, Little Lemon need you to return specific details from your database. They require the full name and contact details for every customer that has placed an order greater than $60 for a promotional campaign. \n",
    "customer_details_query = \"\"\"SELECT c.FullName, c.ContactNumber, c.Email, o.TotalCost FROM \n",
    "Customers c JOIN Bookings b ON c.CustomerID = b.CustomerID JOIN\n",
    "Orders o ON b.BookingID = o.BookingID WHERE o.TotalCost > 60;\"\"\"\n",
    "cursor.execute(customer_details_query)\n",
    "results = cursor.fetchall()\n",
    "for x in results:\n",
    "    print(x)"
   ]
  }
 ],
 "metadata": {
  "kernelspec": {
   "display_name": "Python 3",
   "language": "python",
   "name": "python3"
  },
  "language_info": {
   "codemirror_mode": {
    "name": "ipython",
    "version": 3
   },
   "file_extension": ".py",
   "mimetype": "text/x-python",
   "name": "python",
   "nbconvert_exporter": "python",
   "pygments_lexer": "ipython3",
   "version": "3.13.0"
  }
 },
 "nbformat": 4,
 "nbformat_minor": 2
}
